{
 "cells": [
  {
   "cell_type": "code",
   "execution_count": 1,
   "id": "ab155297-a54e-42b4-8a03-a7f900d1bf0c",
   "metadata": {},
   "outputs": [
    {
     "name": "stdin",
     "output_type": "stream",
     "text": [
      " Nour\n"
     ]
    },
    {
     "name": "stdout",
     "output_type": "stream",
     "text": [
      "Hello, Nour\n"
     ]
    }
   ],
   "source": [
    "# A problem1\n",
    "name = input()\n",
    " \n",
    "print(\"Hello,\",name)"
   ]
  },
  {
   "cell_type": "code",
   "execution_count": 2,
   "id": "b073ad72-7184-4a12-b660-bd9d5087eceb",
   "metadata": {},
   "outputs": [
    {
     "name": "stdin",
     "output_type": "stream",
     "text": [
      " 3 12345678912345 a 334.23 14049.30493\n"
     ]
    },
    {
     "name": "stdout",
     "output_type": "stream",
     "text": [
      "3\n",
      "12345678912345\n",
      "a\n",
      "334.23\n",
      "14049.30493\n"
     ]
    }
   ],
   "source": [
    "# B problem2\n",
    "\n",
    "input_line = input()\n",
    "inputs = input_line.split()\n",
    " \n",
    " \n",
    "x,y,z,a,b=inputs[:5] \n",
    " \n",
    " \n",
    "print(x);\n",
    "print(y);\n",
    "print(z);\n",
    "print(a);\n",
    "print(b);"
   ]
  },
  {
   "cell_type": "code",
   "execution_count": 3,
   "id": "62681a5d-aa49-4de2-b3e3-7b2a0bca29f5",
   "metadata": {},
   "outputs": [
    {
     "name": "stdin",
     "output_type": "stream",
     "text": [
      " 10 5\n"
     ]
    },
    {
     "name": "stdout",
     "output_type": "stream",
     "text": [
      "10 + 5 = 15\n",
      "10 * 5 = 50\n",
      "10 - 5 = 5\n"
     ]
    }
   ],
   "source": [
    "# C problem3\n",
    "\n",
    "input_line = input()\n",
    "inputs = input_line.split()\n",
    " \n",
    "x, y = map(int, inputs[:2])\n",
    " \n",
    " \n",
    "print (x ,\"+\",y, \"=\",x+y)\n",
    "print (x ,\"*\",y, \"=\",x*y)\n",
    "print (x ,\"-\",y, \"=\",x-y)"
   ]
  },
  {
   "cell_type": "code",
   "execution_count": 4,
   "id": "02aecf20-899d-4a82-8e4e-f80ba2c2cdb3",
   "metadata": {},
   "outputs": [
    {
     "name": "stdin",
     "output_type": "stream",
     "text": [
      " 4 2 5 1\n"
     ]
    },
    {
     "name": "stdout",
     "output_type": "stream",
     "text": [
      "Difference = 3\n"
     ]
    }
   ],
   "source": [
    "# D problem4\n",
    "\n",
    "input_line=input();\n",
    "inputs=input_line.split()\n",
    "a,b,c,d=map(int, inputs[:4])\n",
    " \n",
    " \n",
    "print(\"Difference =\",a*b-c*d)"
   ]
  },
  {
   "cell_type": "code",
   "execution_count": 5,
   "id": "3c3720ec-f813-484a-b261-a6f5fff485c1",
   "metadata": {},
   "outputs": [
    {
     "name": "stdin",
     "output_type": "stream",
     "text": [
      " 2.00\n"
     ]
    },
    {
     "name": "stdout",
     "output_type": "stream",
     "text": [
      "12.566370612\n"
     ]
    }
   ],
   "source": [
    "# E problem5\n",
    "\n",
    "input_line = input()\n",
    " \n",
    "R = float(input_line)\n",
    " \n",
    "pi = 3.141592653\n",
    " \n",
    "area = pi * R ** 2\n",
    " \n",
    "print(f\"{area:.9f}\")"
   ]
  },
  {
   "cell_type": "code",
   "execution_count": 6,
   "id": "dec95fd5-6be6-4a32-b693-700b4a76805b",
   "metadata": {},
   "outputs": [
    {
     "name": "stdin",
     "output_type": "stream",
     "text": [
      " 12 13\n"
     ]
    },
    {
     "name": "stdout",
     "output_type": "stream",
     "text": [
      "5\n"
     ]
    }
   ],
   "source": [
    "# F problem6\n",
    "\n",
    "input_line=input()\n",
    "inputs=input_line.split()\n",
    "a,b=map(int,inputs[:2])\n",
    " \n",
    "x=a % 10\n",
    "y=b % 10\n",
    " \n",
    "print(x+y)"
   ]
  },
  {
   "cell_type": "code",
   "execution_count": 7,
   "id": "0d11bda6-1c59-48e3-96b3-b3184c4ce824",
   "metadata": {},
   "outputs": [
    {
     "name": "stdin",
     "output_type": "stream",
     "text": [
      " 5\n"
     ]
    },
    {
     "name": "stdout",
     "output_type": "stream",
     "text": [
      "15\n"
     ]
    }
   ],
   "source": [
    "# G problem6\n",
    "\n",
    "input_line=input()\n",
    "x=int(input_line)\n",
    " \n",
    "sum=x*(x+1)//2\n",
    "print(int(sum))"
   ]
  },
  {
   "cell_type": "code",
   "execution_count": 8,
   "id": "4809cabb-993b-4a8e-8a74-8dbcfd624324",
   "metadata": {},
   "outputs": [
    {
     "name": "stdin",
     "output_type": "stream",
     "text": [
      " 10 3\n"
     ]
    },
    {
     "name": "stdout",
     "output_type": "stream",
     "text": [
      "floor 10 / 3 = 3\n",
      "ceil 10 / 3 = 4\n",
      "round 10 / 3 = 3\n"
     ]
    }
   ],
   "source": [
    "# H problem8\n",
    "\n",
    "import math\n",
    "input_line=input()\n",
    "inputs=input_line.split()\n",
    "x,y=map(int,inputs[:2])\n",
    " \n",
    "round=(x+y//2)//y\n",
    " \n",
    "print  (\"floor\",x,\"/\",y,\"=\",math.floor(x/y))\n",
    "print (\"ceil\",x,\"/\",y,\"=\", math.ceil(x/y))\n",
    "print (\"round\",x,\"/\",y,\"=\",round)"
   ]
  },
  {
   "cell_type": "code",
   "execution_count": 9,
   "id": "c5c6dc55-ee3c-4989-9cb5-12e3ef36f3bf",
   "metadata": {},
   "outputs": [
    {
     "name": "stdin",
     "output_type": "stream",
     "text": [
      " 5 2\n"
     ]
    },
    {
     "name": "stdout",
     "output_type": "stream",
     "text": [
      "Yes\n"
     ]
    }
   ],
   "source": [
    "# I problem9\n",
    "\n",
    "input_line=input()\n",
    "inputs=input_line.split()\n",
    "x,y=map(int,inputs[:2])\n",
    " \n",
    "if(x>=y):\n",
    "  print(\"Yes\")\n",
    "else:\n",
    "    print(\"No\")"
   ]
  },
  {
   "cell_type": "code",
   "execution_count": 10,
   "id": "c3e8ae96-7295-477c-a28b-d832d728573a",
   "metadata": {},
   "outputs": [
    {
     "name": "stdin",
     "output_type": "stream",
     "text": [
      " 5 15\n"
     ]
    },
    {
     "name": "stdout",
     "output_type": "stream",
     "text": [
      "Multiples\n"
     ]
    }
   ],
   "source": [
    "# J problem10\n",
    "\n",
    "input_line=input()\n",
    "inputs=input_line.split()\n",
    "x,y=map(int,inputs[:2])\n",
    " \n",
    "if(x%y==0 or y%x==0):\n",
    "    print('Multiples')\n",
    "else:\n",
    "    print('No Multiples')"
   ]
  },
  {
   "cell_type": "code",
   "execution_count": 11,
   "id": "46c4208d-d3dc-48f8-81e8-019a37d5272a",
   "metadata": {},
   "outputs": [
    {
     "name": "stdin",
     "output_type": "stream",
     "text": [
      " 5 4 2\n"
     ]
    },
    {
     "name": "stdout",
     "output_type": "stream",
     "text": [
      "2 5\n"
     ]
    }
   ],
   "source": [
    "# K problem11\n",
    "\n",
    "input_line=input()\n",
    "inputs=input_line.split()\n",
    "x,y,z=map(int,inputs[:3])\n",
    " \n",
    "print(min(x,y,z),max(x,y,z))"
   ]
  },
  {
   "cell_type": "code",
   "execution_count": 13,
   "id": "1931c9de-69fa-4f18-9b09-30987888ea78",
   "metadata": {},
   "outputs": [
    {
     "name": "stdin",
     "output_type": "stream",
     "text": [
      " Nour zayed\n",
      " Nour mostafa\n"
     ]
    },
    {
     "name": "stdout",
     "output_type": "stream",
     "text": [
      "NOT\n"
     ]
    }
   ],
   "source": [
    "# L problem12\n",
    " \n",
    "input = __builtins__.input\n",
    " \n",
    "first_person=input()\n",
    "second_person=input()\n",
    " \n",
    "input1=first_person.split()\n",
    "input2=second_person.split()\n",
    " \n",
    "f1,l1=input1[:2]\n",
    "f2,l2=input2[:2]\n",
    " \n",
    " \n",
    "if(l1==l2):\n",
    "    print(\"ARE Brothers\")\n",
    "else:\n",
    "    print(\"NOT\")"
   ]
  },
  {
   "cell_type": "code",
   "execution_count": 14,
   "id": "fd350f67-c79e-429a-9ae4-56b0076430f3",
   "metadata": {},
   "outputs": [
    {
     "name": "stdin",
     "output_type": "stream",
     "text": [
      " j\n"
     ]
    },
    {
     "name": "stdout",
     "output_type": "stream",
     "text": [
      "ALPHA\n",
      "IS SMALL\n"
     ]
    }
   ],
   "source": [
    "# M problem13\n",
    "\n",
    "x=input()\n",
    "if(ord(x)>=65 and ord(x)<97):\n",
    "    print('ALPHA\\nIS CAPITAL')\n",
    "elif(ord(x)>=97  and ord(x)<=122):\n",
    "    print('ALPHA\\nIS SMALL')\n",
    "else:\n",
    "    print('IS DIGIT')"
   ]
  },
  {
   "cell_type": "code",
   "execution_count": 15,
   "id": "32857a09-8645-4edb-8d6f-2a200fb430c8",
   "metadata": {},
   "outputs": [
    {
     "name": "stdin",
     "output_type": "stream",
     "text": [
      " s\n"
     ]
    },
    {
     "name": "stdout",
     "output_type": "stream",
     "text": [
      "S\n"
     ]
    }
   ],
   "source": [
    "# N problem14\n",
    "\n",
    "x=input()\n",
    "if(65<= ord(x)<97):\n",
    "    x=chr(ord(x)+32)\n",
    "    print(x)\n",
    "elif(97<= ord(x)<=122):\n",
    "    x=chr(ord(x)-32)\n",
    "    print(x)"
   ]
  },
  {
   "cell_type": "code",
   "execution_count": 17,
   "id": "a74dcfa2-1647-42f1-99a1-952aa0a80c3a",
   "metadata": {},
   "outputs": [
    {
     "name": "stdin",
     "output_type": "stream",
     "text": [
      " 5+4\n"
     ]
    },
    {
     "name": "stdout",
     "output_type": "stream",
     "text": [
      "9\n"
     ]
    }
   ],
   "source": [
    "# O problem15\n",
    "\n",
    "import re\n",
    " \n",
    "input_line = input().strip()\n",
    " \n",
    "pattern = r\"(\\d+)([\\+\\-\\*\\/])(\\d+)\"\n",
    " \n",
    "match = re.match(pattern, input_line)\n",
    " \n",
    "if match:\n",
    "    x = int(match.group(1))\n",
    "    y = match.group(2)\n",
    "    z = int(match.group(3))\n",
    " \n",
    "    if y == '+':\n",
    "        print(x + z)\n",
    "    elif y == '*':\n",
    "        print(x * z)\n",
    "    elif y == '-':\n",
    "        print(x - z)\n",
    "    elif y == '/':\n",
    "        print(x // z)\n"
   ]
  },
  {
   "cell_type": "code",
   "execution_count": 21,
   "id": "d04bfe01-6509-4631-ae75-937a7a09d3dd",
   "metadata": {},
   "outputs": [
    {
     "name": "stdin",
     "output_type": "stream",
     "text": [
      " 451\n"
     ]
    },
    {
     "name": "stdout",
     "output_type": "stream",
     "text": [
      "EVEN\n"
     ]
    }
   ],
   "source": [
    "# P problem16\n",
    "\n",
    "x=input()\n",
    "x=int(x)\n",
    " \n",
    " \n",
    "y=x//1000\n",
    " \n",
    "if(y%2==0):\n",
    "    print('EVEN')\n",
    "else:\n",
    "    print('ODD')"
   ]
  },
  {
   "cell_type": "code",
   "execution_count": 22,
   "id": "772a1c54-bf19-4417-a163-b5cb21260856",
   "metadata": {},
   "outputs": [
    {
     "name": "stdin",
     "output_type": "stream",
     "text": [
      " 0 0\n"
     ]
    },
    {
     "name": "stdout",
     "output_type": "stream",
     "text": [
      "Origem\n"
     ]
    }
   ],
   "source": [
    "# Q problem17\n",
    "\n",
    "input_line=input()\n",
    "inputs=input_line.split()\n",
    "x,y=map(float,inputs[:2])\n",
    " \n",
    "if(x>0 and y>0):\n",
    "    print('Q1')\n",
    "elif(x<0 and y>0):\n",
    "    print('Q2')\n",
    "elif(x<0 and y<0):\n",
    "    print('Q3')\n",
    "elif(x>0 and y<0):\n",
    "    print('Q4')    \n",
    "elif(x!=0 and y==0):\n",
    "    print('Eixo X') \n",
    "elif(x==0 and y>0 or y!=0):\n",
    "    print('Eixo Y') \n",
    "else:\n",
    "    print('Origem')"
   ]
  },
  {
   "cell_type": "code",
   "execution_count": 23,
   "id": "34ef5e8c-4af9-43dd-8443-ae78e0ee62f8",
   "metadata": {},
   "outputs": [
    {
     "name": "stdin",
     "output_type": "stream",
     "text": [
      " 400\n"
     ]
    },
    {
     "name": "stdout",
     "output_type": "stream",
     "text": [
      "1 years\n",
      "1 months\n",
      "5 days\n"
     ]
    }
   ],
   "source": [
    "# R problem18\n",
    "\n",
    "days=int(input())\n",
    " \n",
    "years = days // 365\n",
    "reminder = days % 365\n",
    " \n",
    "days=reminder\n",
    "months=days//30\n",
    "days=days%30\n",
    " \n",
    "print(years,\"years\")\n",
    "print(months,\"months\")\n",
    "print(days,\"days\")\n",
    " "
   ]
  },
  {
   "cell_type": "code",
   "execution_count": 24,
   "id": "457be243-813c-4767-b492-4ce93b84add5",
   "metadata": {},
   "outputs": [
    {
     "name": "stdin",
     "output_type": "stream",
     "text": [
      " 25.1\n"
     ]
    },
    {
     "name": "stdout",
     "output_type": "stream",
     "text": [
      "Interval (25,50]\n"
     ]
    }
   ],
   "source": [
    "# S problem1\n",
    "\n",
    "x=float(input())\n",
    "if (x>0 and x<=25):\n",
    "    print('Interval [0,25]')\n",
    "elif(x>25 and x<=50):\n",
    "    print (\"Interval (25,50]\")\n",
    "elif(x>50 and x<=75 ):\n",
    "    print (\"Interval (50,75]\")\n",
    "elif(x>75 and x<=100 ):\n",
    "    print (\"Interval (75,100]\")\n",
    "else:\n",
    "    print (\"Out of Intervals\") "
   ]
  },
  {
   "cell_type": "code",
   "execution_count": 26,
   "id": "a8e5bc69-983c-4268-bd72-71a4cfbf1c7e",
   "metadata": {},
   "outputs": [
    {
     "name": "stdin",
     "output_type": "stream",
     "text": [
      " 5 2 1\n"
     ]
    },
    {
     "name": "stdout",
     "output_type": "stream",
     "text": [
      "1\n",
      "2\n",
      "5\n",
      "\n",
      "5\n",
      "2\n",
      "1\n",
      "\n"
     ]
    }
   ],
   "source": [
    "# T problem1\n",
    "\n",
    "input_line = input()\n",
    "inputs = input_line.split()\n",
    "x, y, z = map(int, inputs[:3])\n",
    " \n",
    "numbers = [x, y, z]\n",
    "numbers.sort()\n",
    " \n",
    "smallest = numbers[0]\n",
    "middle = numbers[1]\n",
    "largest = numbers[2]\n",
    " \n",
    "print(f\"{smallest}\\n{middle}\\n{largest}\\n\")\n",
    " \n",
    "print(f\"{x}\\n{y}\\n{z}\\n\")"
   ]
  },
  {
   "cell_type": "code",
   "execution_count": 27,
   "id": "fcd3a3af-5cdf-4a0c-a673-b0abf11c3326",
   "metadata": {},
   "outputs": [
    {
     "name": "stdin",
     "output_type": "stream",
     "text": [
      " 54\n"
     ]
    },
    {
     "name": "stdout",
     "output_type": "stream",
     "text": [
      "int 54\n"
     ]
    }
   ],
   "source": [
    "# U problem1\n",
    "\n",
    "input_line = input()\n",
    "x = float(input_line)\n",
    "y = int(x)\n",
    " \n",
    "if(y==x):\n",
    "    print(\"int\",y)\n",
    "else:\n",
    "    decimal_part = x - y\n",
    "    print(f\"float {y} {decimal_part:.3f}\")"
   ]
  },
  {
   "cell_type": "code",
   "execution_count": 28,
   "id": "da71bdc6-70d4-4e77-91b0-8d20e1d13687",
   "metadata": {},
   "outputs": [
    {
     "name": "stdin",
     "output_type": "stream",
     "text": [
      " 4 = 4\n"
     ]
    },
    {
     "name": "stdout",
     "output_type": "stream",
     "text": [
      "Right\n"
     ]
    }
   ],
   "source": [
    "# V problem1\n",
    "\n",
    "input_line=input()\n",
    "inputs=input_line.split()\n",
    "x = int(inputs[0])\n",
    "z = inputs[1]\n",
    "y = int(inputs[2])\n",
    "if(x>y and z=='>'):\n",
    "    print ('Right')\n",
    " \n",
    "elif (x<y and z=='<'):\n",
    "    print ('Right')\n",
    "elif (x==y and z=='='):\n",
    "    print ('Right')\n",
    "else:\n",
    "    print ('Wrong')\n",
    " "
   ]
  },
  {
   "cell_type": "code",
   "execution_count": 30,
   "id": "62103ac4-0b2e-4c76-8ecf-c43ba8754372",
   "metadata": {},
   "outputs": [
    {
     "name": "stdin",
     "output_type": "stream",
     "text": [
      " 4 + 5 = 9\n"
     ]
    },
    {
     "name": "stdout",
     "output_type": "stream",
     "text": [
      "Yes\n"
     ]
    }
   ],
   "source": [
    "# W problem1\n",
    "\n",
    "input_line = input().strip()\n",
    "inputs = input_line.split()\n",
    " \n",
    "a = int(inputs[0])\n",
    "b = inputs[1]\n",
    "c = int(inputs[2])\n",
    "d = inputs[3]\n",
    "e = int(inputs[4])\n",
    " \n",
    "if b == '+':\n",
    "    if a + c == e:\n",
    "        print(\"Yes\")\n",
    "    else:\n",
    "        print(a + c)\n",
    "elif b == '-':\n",
    "    if a - c == e:\n",
    "        print(\"Yes\")\n",
    "    else:\n",
    "        print(a - c)\n",
    "elif b == '*':\n",
    "    if a * c == e:\n",
    "        print(\"Yes\")\n",
    "    else:\n",
    "        print(a * c)\n",
    "elif b == '/':\n",
    "    if c != 0:\n",
    "        if a / c == e:\n",
    "            print(\"Yes\")\n",
    "        else:\n",
    "            print(a / c)"
   ]
  },
  {
   "cell_type": "code",
   "execution_count": 34,
   "id": "fe5b9323-cee3-4662-8acc-2d5914a3e34d",
   "metadata": {},
   "outputs": [
    {
     "name": "stdin",
     "output_type": "stream",
     "text": [
      " 12 15 13 20\n"
     ]
    },
    {
     "name": "stdout",
     "output_type": "stream",
     "text": [
      "13 15\n"
     ]
    }
   ],
   "source": [
    "# X problem1\n",
    "\n",
    "input_line=input()\n",
    "inputs=input_line.split()\n",
    "l1,r1,l2,r2=map(int,inputs[:4])\n",
    " \n",
    "if(max(l1,l2)> min(r1,r2)):\n",
    "    print('-1')\n",
    "else:\n",
    "    print(max (l1,l2),  min(r1,r2))"
   ]
  },
  {
   "cell_type": "code",
   "execution_count": 35,
   "id": "b8737e3e-fbbf-4f30-98fa-b458efe89e20",
   "metadata": {},
   "outputs": [
    {
     "name": "stdin",
     "output_type": "stream",
     "text": [
      " 4 5 2 8 \n"
     ]
    },
    {
     "name": "stdout",
     "output_type": "stream",
     "text": [
      "20\n"
     ]
    }
   ],
   "source": [
    "# Y problem1\n",
    "\n",
    "input_line=input()\n",
    "inputs=input_line.split()\n",
    "a,b,c,d=map(int,inputs[:4])\n",
    " \n",
    "multiply=a*b*c*d%100\n",
    " \n",
    "if(multiply>9):\n",
    " \n",
    "     print(multiply)\n",
    " \n",
    "else:\n",
    "    print(f'0{multiply}')"
   ]
  },
  {
   "cell_type": "code",
   "execution_count": 36,
   "id": "cf32f24e-ee23-4d11-94e3-b405637f3fac",
   "metadata": {},
   "outputs": [
    {
     "name": "stdin",
     "output_type": "stream",
     "text": [
      " 5 4 2 6\n"
     ]
    },
    {
     "name": "stdout",
     "output_type": "stream",
     "text": [
      "YES\n"
     ]
    }
   ],
   "source": [
    "# Z problem1\n",
    "\n",
    "from math import log\n",
    "input_line=input()\n",
    "inputs=input_line.split()\n",
    "a,b,c,d=map(int,inputs[:4])\n",
    " \n",
    "if(b * log(a)) > (d * log(c)):\n",
    "    print('YES')\n",
    "else:\n",
    "    print('NO')"
   ]
  },
  {
   "cell_type": "code",
   "execution_count": null,
   "id": "5f45ef75-a19c-445a-a31e-356c049cccf8",
   "metadata": {},
   "outputs": [],
   "source": []
  }
 ],
 "metadata": {
  "kernelspec": {
   "display_name": "Python 3 (ipykernel)",
   "language": "python",
   "name": "python3"
  },
  "language_info": {
   "codemirror_mode": {
    "name": "ipython",
    "version": 3
   },
   "file_extension": ".py",
   "mimetype": "text/x-python",
   "name": "python",
   "nbconvert_exporter": "python",
   "pygments_lexer": "ipython3",
   "version": "3.11.5"
  }
 },
 "nbformat": 4,
 "nbformat_minor": 5
}
